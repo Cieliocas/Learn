{
  "nbformat": 4,
  "nbformat_minor": 0,
  "metadata": {
    "colab": {
      "name": "LogicaDeProgramaçaoDS.ipynb",
      "provenance": [],
      "collapsed_sections": [
        "13YYz9kGCJYe",
        "tXWDDEUsEvYj",
        "MMTA1mHULFMU",
        "5N_c_mXmMHio",
        "Mp9fy6IGPy2K",
        "Von47JCUTFSS",
        "gkqTx5bSVV8y",
        "auNEEsdytXOH",
        "tNQpxcg4xLAJ"
      ],
      "authorship_tag": "ABX9TyN2i4fICUx915My0VU/iL/i",
      "include_colab_link": true
    },
    "kernelspec": {
      "name": "python3",
      "display_name": "Python 3"
    },
    "language_info": {
      "name": "python"
    }
  },
  "cells": [
    {
      "cell_type": "markdown",
      "metadata": {
        "id": "view-in-github",
        "colab_type": "text"
      },
      "source": [
        "<a href=\"https://colab.research.google.com/github/Cieliocas/Learn/blob/master/ProgrammingLogic.ipynb\" target=\"_parent\"><img src=\"https://colab.research.google.com/assets/colab-badge.svg\" alt=\"Open In Colab\"/></a>"
      ]
    },
    {
      "cell_type": "markdown",
      "metadata": {
        "id": "13YYz9kGCJYe"
      },
      "source": [
        "# **Programming Logics: Python for DataScience.**"
      ]
    },
    {
      "cell_type": "code",
      "metadata": {
        "colab": {
          "base_uri": "https://localhost:8080/"
        },
        "id": "0Q6auOdUB3A_",
        "outputId": "8ff2fde6-4a69-4806-86aa-fbb46a702a20"
      },
      "source": [
        "1+1"
      ],
      "execution_count": 1,
      "outputs": [
        {
          "output_type": "execute_result",
          "data": {
            "text/plain": [
              "2"
            ]
          },
          "metadata": {},
          "execution_count": 1
        }
      ]
    },
    {
      "cell_type": "markdown",
      "metadata": {
        "id": "tXWDDEUsEvYj"
      },
      "source": [
        "# **Create Functions.**"
      ]
    },
    {
      "cell_type": "code",
      "metadata": {
        "id": "1SQ6V038EzGQ"
      },
      "source": [
        "def greetings():\n",
        "  nome = input('Whats your name?\\n')\n",
        "  print(f'Hi {nome}!!!')  "
      ],
      "execution_count": 11,
      "outputs": []
    },
    {
      "cell_type": "code",
      "metadata": {
        "colab": {
          "base_uri": "https://localhost:8080/"
        },
        "id": "K6ug-Q_TFp9W",
        "outputId": "8ffc5e20-038b-4b25-cd02-64616cf82523"
      },
      "source": [
        "greetings()"
      ],
      "execution_count": 12,
      "outputs": [
        {
          "output_type": "stream",
          "name": "stdout",
          "text": [
            "Whats your name?\n",
            "Cielio\n",
            "Hi Cielio!!!\n"
          ]
        }
      ]
    },
    {
      "cell_type": "markdown",
      "metadata": {
        "id": "MMTA1mHULFMU"
      },
      "source": [
        "# **Parameters.**"
      ]
    },
    {
      "cell_type": "code",
      "metadata": {
        "id": "wgzXhnY_K7Vm"
      },
      "source": [
        "name = 'ciel'"
      ],
      "execution_count": 14,
      "outputs": []
    },
    {
      "cell_type": "code",
      "metadata": {
        "id": "e1e6g9xeKgUP"
      },
      "source": [
        "def greetings_with_parameters(people_name):\n",
        "  print(f'Hi, {people_name}')"
      ],
      "execution_count": 15,
      "outputs": []
    },
    {
      "cell_type": "code",
      "metadata": {
        "colab": {
          "base_uri": "https://localhost:8080/"
        },
        "id": "g8tf2QPwKzn6",
        "outputId": "18ef312f-acac-45a0-907f-dce1f97abafb"
      },
      "source": [
        "greetings_with_parameters(name)"
      ],
      "execution_count": 16,
      "outputs": [
        {
          "output_type": "stream",
          "name": "stdout",
          "text": [
            "Hi, ciel\n"
          ]
        }
      ]
    },
    {
      "cell_type": "markdown",
      "metadata": {
        "id": "5N_c_mXmMHio"
      },
      "source": [
        "# **Conditional.**"
      ]
    },
    {
      "cell_type": "code",
      "metadata": {
        "id": "vWjbCvzjMNYV"
      },
      "source": [
        "age = 22\n",
        "def check_age(age):\n",
        "  if age >= 18:\n",
        "    print('Allowed for drive.')\n",
        "  else:\n",
        "    print('Not allowed to drive')"
      ],
      "execution_count": 20,
      "outputs": []
    },
    {
      "cell_type": "code",
      "metadata": {
        "colab": {
          "base_uri": "https://localhost:8080/"
        },
        "id": "TO0YAVNENo7b",
        "outputId": "dba4ae38-9dff-42b9-d646-1fe92dd0f685"
      },
      "source": [
        "check_age(age)"
      ],
      "execution_count": 22,
      "outputs": [
        {
          "output_type": "stream",
          "name": "stdout",
          "text": [
            "Allowed for drive.\n"
          ]
        }
      ]
    },
    {
      "cell_type": "markdown",
      "metadata": {
        "id": "Mp9fy6IGPy2K"
      },
      "source": [
        "# **Convert int.**"
      ]
    },
    {
      "cell_type": "code",
      "metadata": {
        "colab": {
          "base_uri": "https://localhost:8080/"
        },
        "id": "xGjP-DSCOKc5",
        "outputId": "a3d29c01-d857-4d1c-f3a8-c8680598f3e6"
      },
      "source": [
        "def check_age_without_parameters():\n",
        "  age = input('How old are you? \\n')\n",
        "  age = int(age)\n",
        "  if age >= 18:\n",
        "    print('Allowed for drive.')\n",
        "  else:\n",
        "    print('Not allowed to drive')\n",
        "\n",
        "check_age_without_parameters()"
      ],
      "execution_count": 30,
      "outputs": [
        {
          "output_type": "stream",
          "name": "stdout",
          "text": [
            "How old are you? \n",
            "22\n",
            "Allowed for drive.\n"
          ]
        }
      ]
    },
    {
      "cell_type": "markdown",
      "metadata": {
        "id": "Von47JCUTFSS"
      },
      "source": [
        "# **List.**"
      ]
    },
    {
      "cell_type": "code",
      "metadata": {
        "colab": {
          "base_uri": "https://localhost:8080/"
        },
        "id": "3B9fRxluTIuJ",
        "outputId": "6cb99463-b068-410f-cdc5-9d4a40aefc12"
      },
      "source": [
        "age = 22\n",
        "age"
      ],
      "execution_count": 31,
      "outputs": [
        {
          "output_type": "execute_result",
          "data": {
            "text/plain": [
              "22"
            ]
          },
          "metadata": {},
          "execution_count": 31
        }
      ]
    },
    {
      "cell_type": "code",
      "metadata": {
        "colab": {
          "base_uri": "https://localhost:8080/"
        },
        "id": "WHncRjoqTS3j",
        "outputId": "5661c676-ed76-4cde-d024-42408872fba9"
      },
      "source": [
        "type(age)"
      ],
      "execution_count": 33,
      "outputs": [
        {
          "output_type": "execute_result",
          "data": {
            "text/plain": [
              "int"
            ]
          },
          "metadata": {},
          "execution_count": 33
        }
      ]
    },
    {
      "cell_type": "code",
      "metadata": {
        "colab": {
          "base_uri": "https://localhost:8080/"
        },
        "id": "NCadUIRdTWV6",
        "outputId": "7c9ec9a0-57e7-45f5-b6a1-be94df793858"
      },
      "source": [
        "name = 'ciel'\n",
        "type(name)"
      ],
      "execution_count": 34,
      "outputs": [
        {
          "output_type": "execute_result",
          "data": {
            "text/plain": [
              "str"
            ]
          },
          "metadata": {},
          "execution_count": 34
        }
      ]
    },
    {
      "cell_type": "code",
      "metadata": {
        "colab": {
          "base_uri": "https://localhost:8080/"
        },
        "id": "Jw0QMZ7VTd8G",
        "outputId": "c2d6c712-adb8-4490-a6c3-bc22ba9c5e4b"
      },
      "source": [
        "ages = [18, 22, 15, 50]\n",
        "#      [0,  1,  2,  3]\n",
        "# or   [0, -3, -2, -1]\n",
        "type(ages)"
      ],
      "execution_count": 43,
      "outputs": [
        {
          "output_type": "execute_result",
          "data": {
            "text/plain": [
              "list"
            ]
          },
          "metadata": {},
          "execution_count": 43
        }
      ]
    },
    {
      "cell_type": "code",
      "metadata": {
        "colab": {
          "base_uri": "https://localhost:8080/"
        },
        "id": "KtS_iHMwTpaj",
        "outputId": "f5fa0e58-c52a-4872-f2ea-95db0c3cb095"
      },
      "source": [
        "ages[1]"
      ],
      "execution_count": 44,
      "outputs": [
        {
          "output_type": "execute_result",
          "data": {
            "text/plain": [
              "22"
            ]
          },
          "metadata": {},
          "execution_count": 44
        }
      ]
    },
    {
      "cell_type": "code",
      "metadata": {
        "colab": {
          "base_uri": "https://localhost:8080/"
        },
        "id": "lcCH5_-XUBTS",
        "outputId": "4aca59cd-bf64-4d01-cbb6-2be0fdf15e49"
      },
      "source": [
        "ages[1:4]"
      ],
      "execution_count": 45,
      "outputs": [
        {
          "output_type": "execute_result",
          "data": {
            "text/plain": [
              "[22, 15, 50]"
            ]
          },
          "metadata": {},
          "execution_count": 45
        }
      ]
    },
    {
      "cell_type": "code",
      "metadata": {
        "colab": {
          "base_uri": "https://localhost:8080/"
        },
        "id": "t-Hrrh2NUkKm",
        "outputId": "c02decfa-b9bc-407c-9113-d4710d413a5b"
      },
      "source": [
        "ages[-2]"
      ],
      "execution_count": 46,
      "outputs": [
        {
          "output_type": "execute_result",
          "data": {
            "text/plain": [
              "15"
            ]
          },
          "metadata": {},
          "execution_count": 46
        }
      ]
    },
    {
      "cell_type": "markdown",
      "metadata": {
        "id": "gkqTx5bSVV8y"
      },
      "source": [
        "# **Loops**"
      ]
    },
    {
      "cell_type": "code",
      "metadata": {
        "colab": {
          "base_uri": "https://localhost:8080/"
        },
        "id": "vSKzVOTDU2-U",
        "outputId": "ccb2f4f3-c85c-4c73-c658-08e20a67b4af"
      },
      "source": [
        "ages"
      ],
      "execution_count": 41,
      "outputs": [
        {
          "output_type": "execute_result",
          "data": {
            "text/plain": [
              "[18, 22, 25, 50]"
            ]
          },
          "metadata": {},
          "execution_count": 41
        }
      ]
    },
    {
      "cell_type": "code",
      "metadata": {
        "colab": {
          "base_uri": "https://localhost:8080/"
        },
        "id": "GT7Cqqc6VeEl",
        "outputId": "f182001d-e57a-4aeb-804c-710c09989134"
      },
      "source": [
        "def check_age(age):\n",
        "  if age >= 18:\n",
        "    print(f'{age} years old: Allowed for drive.')\n",
        "  else:\n",
        "    print(f'{age} years old: Not allowed to drive.')\n",
        "#for fora da funcao\n",
        "for age in ages:\n",
        "  check_age(age)"
      ],
      "execution_count": 48,
      "outputs": [
        {
          "output_type": "stream",
          "name": "stdout",
          "text": [
            "18 years old: Allowed for drive.\n",
            "22 years old: Allowed for drive.\n",
            "15 years old: Not allowed to drive.\n",
            "50 years old: Allowed for drive.\n"
          ]
        }
      ]
    },
    {
      "cell_type": "code",
      "metadata": {
        "colab": {
          "base_uri": "https://localhost:8080/"
        },
        "id": "Qy6YSBxHWZ2m",
        "outputId": "373d2ca0-9e5d-4712-f8ce-032964e7ace7"
      },
      "source": [
        "#for dentro da funcao\n",
        "def check_age(age):\n",
        "  for age in ages:\n",
        "    if age >= 18:\n",
        "      print(f'{age} years old: Allowed for drive.')\n",
        "    else:\n",
        "      print(f'{age} years old: Not allowed to drive.')\n",
        "\n",
        "check_age(ages)"
      ],
      "execution_count": 50,
      "outputs": [
        {
          "output_type": "stream",
          "name": "stdout",
          "text": [
            "18 years old: Allowed for drive.\n",
            "22 years old: Allowed for drive.\n",
            "15 years old: Not allowed to drive.\n",
            "50 years old: Allowed for drive.\n"
          ]
        }
      ]
    },
    {
      "cell_type": "markdown",
      "metadata": {
        "id": "auNEEsdytXOH"
      },
      "source": [
        "# **Boolean.**"
      ]
    },
    {
      "cell_type": "code",
      "metadata": {
        "colab": {
          "base_uri": "https://localhost:8080/"
        },
        "id": "GnQSjF1CtV8q",
        "outputId": "69927d40-2b37-42b4-856d-cfcb186d918d"
      },
      "source": [
        "age = 15\n",
        "age >= 18"
      ],
      "execution_count": 52,
      "outputs": [
        {
          "output_type": "execute_result",
          "data": {
            "text/plain": [
              "False"
            ]
          },
          "metadata": {},
          "execution_count": 52
        }
      ]
    },
    {
      "cell_type": "code",
      "metadata": {
        "id": "BJN3jW83ttvC"
      },
      "source": [
        "permissions = []\n",
        "agelist = [20, 14, 40]\n",
        "\n",
        "def check_if_you_can_drive(agelist, permissions):\n",
        "  for age in agelist:\n",
        "    if age >= 18:\n",
        "      permissions.append(True)\n",
        "    else:\n",
        "      permissions.append(False)\n",
        "\n",
        "check_if_you_can_drive(agelist, permissions)"
      ],
      "execution_count": 56,
      "outputs": []
    },
    {
      "cell_type": "code",
      "metadata": {
        "colab": {
          "base_uri": "https://localhost:8080/"
        },
        "id": "32S7WxYbu8uG",
        "outputId": "55f0912f-2da1-4732-ab25-c2dfde83f6f4"
      },
      "source": [
        "permissions"
      ],
      "execution_count": 57,
      "outputs": [
        {
          "output_type": "execute_result",
          "data": {
            "text/plain": [
              "[True, False, True]"
            ]
          },
          "metadata": {},
          "execution_count": 57
        }
      ]
    },
    {
      "cell_type": "code",
      "metadata": {
        "colab": {
          "base_uri": "https://localhost:8080/"
        },
        "id": "yRRtNmw5vGfq",
        "outputId": "4100e13e-ce2e-4afd-83f7-55bec25e7d24"
      },
      "source": [
        "for permission in permissions:\n",
        "  if permission == True:\n",
        "    print('\\nCan drive! ^_^')\n",
        "  else:\n",
        "    print('\\nCant drive :(')\n"
      ],
      "execution_count": 64,
      "outputs": [
        {
          "output_type": "stream",
          "name": "stdout",
          "text": [
            "\n",
            "Can drive! ^_^\n",
            "\n",
            "Cant drive :(\n",
            "\n",
            "Can drive! ^_^\n"
          ]
        }
      ]
    },
    {
      "cell_type": "markdown",
      "metadata": {
        "id": "tNQpxcg4xLAJ"
      },
      "source": [
        "# **Different Types in lists.**"
      ]
    },
    {
      "cell_type": "code",
      "metadata": {
        "colab": {
          "base_uri": "https://localhost:8080/"
        },
        "id": "cOhxYXwRxQ7B",
        "outputId": "2a893693-1697-4bf2-c2a4-8a27d6d2abc9"
      },
      "source": [
        "list_types = ['ciel', 22, True, '18']\n",
        "\n",
        "for element in list_types:\n",
        "  print(f'The element {element} is of the type', type(element))"
      ],
      "execution_count": 65,
      "outputs": [
        {
          "output_type": "stream",
          "name": "stdout",
          "text": [
            "The element ciel is of the type <class 'str'>\n",
            "The element 22 is of the type <class 'int'>\n",
            "The element True is of the type <class 'bool'>\n",
            "The element 18 is of the type <class 'str'>\n"
          ]
        }
      ]
    },
    {
      "cell_type": "markdown",
      "metadata": {
        "id": "0Gh-5GoFygE1"
      },
      "source": [
        "# **Imports**"
      ]
    },
    {
      "cell_type": "code",
      "metadata": {
        "id": "4dAmsxxXyiM4"
      },
      "source": [
        "from random import randrange, seed"
      ],
      "execution_count": 73,
      "outputs": []
    },
    {
      "cell_type": "code",
      "metadata": {
        "id": "BUO4PhV32VYE"
      },
      "source": [
        "seed(11)"
      ],
      "execution_count": 76,
      "outputs": []
    },
    {
      "cell_type": "code",
      "metadata": {
        "colab": {
          "base_uri": "https://localhost:8080/"
        },
        "id": "MrLi8vVxypoq",
        "outputId": "5214c370-c827-4d25-c738-d15bc4e14327"
      },
      "source": [
        "randrange(0, 11)"
      ],
      "execution_count": 77,
      "outputs": [
        {
          "output_type": "execute_result",
          "data": {
            "text/plain": [
              "7"
            ]
          },
          "metadata": {},
          "execution_count": 77
        }
      ]
    },
    {
      "cell_type": "code",
      "metadata": {
        "colab": {
          "base_uri": "https://localhost:8080/"
        },
        "id": "A4SGbdbEy6CP",
        "outputId": "c3bf83db-200d-4b49-e7eb-e209b64b0e78"
      },
      "source": [
        "math_grades = []\n",
        "\n",
        "for grades in range(8):\n",
        "  math_grades.append(randrange(0,11))\n",
        "  \n",
        "math_grades"
      ],
      "execution_count": 78,
      "outputs": [
        {
          "output_type": "execute_result",
          "data": {
            "text/plain": [
              "[8, 7, 7, 8, 9, 3, 2, 8]"
            ]
          },
          "metadata": {},
          "execution_count": 78
        }
      ]
    },
    {
      "cell_type": "markdown",
      "metadata": {
        "id": "lUs_9lrU3mIW"
      },
      "source": [
        "# **Matplotlib.**"
      ]
    },
    {
      "cell_type": "code",
      "metadata": {
        "id": "unkOFEdN3sWu"
      },
      "source": [
        "import matplotlib.pyplot as plt"
      ],
      "execution_count": 79,
      "outputs": []
    },
    {
      "cell_type": "code",
      "metadata": {
        "colab": {
          "base_uri": "https://localhost:8080/",
          "height": 312
        },
        "id": "676MJN98368e",
        "outputId": "69fa7857-ca35-4969-aaa4-5855a4fb4958"
      },
      "source": [
        "x = list(range(1,9))\n",
        "y = math_grades\n",
        "print(x, y)\n",
        "plt.plot(x, y, marker = 'o')\n",
        "plt.title('Performance')\n",
        "plt.xlabel('Tests')\n",
        "plt.ylabel('Grades')\n",
        "plt.show()"
      ],
      "execution_count": 99,
      "outputs": [
        {
          "output_type": "stream",
          "name": "stdout",
          "text": [
            "[1, 2, 3, 4, 5, 6, 7, 8] [8, 7, 7, 8, 9, 3, 2, 8]\n"
          ]
        },
        {
          "output_type": "display_data",
          "data": {
            "image/png": "[encoded data removed]",
            "text/plain": [
              "<Figure size 432x288 with 1 Axes>"
            ]
          },
          "metadata": {
            "needs_background": "light"
          }
        }
      ]
    }
  ]
}